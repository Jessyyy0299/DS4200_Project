import pandas as pd
df = pd.read_csv('combined_wine_quality.csv')
df.head()

import matplotlib.pyplot as plt
import seaborn as sns
from sklearn.linear_model import LinearRegression
import numpy as np

# get the median for each feature as a classification threshold
alcohol_threshold = df['alcohol'].median()
ph_threshold = df['pH'].median()
volatile_acidity_threshold = df['volatile acidity'].median()

# Define classification function covering all combinations
def classify_wine(row):
    if row['alcohol'] > alcohol_threshold and row['pH'] <= ph_threshold and row['volatile acidity'] <= volatile_acidity_threshold:
        return 'High Alc-Low pH-Low Acid'
    elif row['alcohol'] <= alcohol_threshold and row['pH'] <= ph_threshold and row['volatile acidity'] > volatile_acidity_threshold:
        return 'Low Alc-Low pH-High Acid'
    elif row['alcohol'] > alcohol_threshold and row['pH'] > ph_threshold and row['volatile acidity'] <= volatile_acidity_threshold:
        return 'High Alc-High pH-Low Acid'
    elif row['alcohol'] > alcohol_threshold and row['pH'] <= ph_threshold and row['volatile acidity'] > volatile_acidity_threshold:
        return 'High Alc-Low pH-High Acid'
    elif row['alcohol'] <= alcohol_threshold and row['pH'] > ph_threshold and row['volatile acidity'] <= volatile_acidity_threshold:
        return 'Low Alc-High pH-Low Acid'
    elif row['alcohol'] <= alcohol_threshold and row['pH'] > ph_threshold and row['volatile acidity'] > volatile_acidity_threshold:
        return 'Low Alc-High pH-High Acid'
    elif row['alcohol'] <= alcohol_threshold and row['pH'] <= ph_threshold and row['volatile acidity'] <= volatile_acidity_threshold:
        return 'Low Alc-Low pH-Low Acid'
    else:
        return 'High Alc-High pH-High Acid'

# Add classification column
df['category'] = df.apply(classify_wine, axis=1)

# Calculate slopes for each category
slopes = {}
for category in df['category'].unique():
    mask = (df['category'] == category) & (df['sulphates'] > 0.75)
    if sum(mask) > 1:
        X = df[mask]['sulphates'].values.reshape(-1, 1)
        y = df[mask]['quality'].values
        reg = LinearRegression().fit(X, y)
        slopes[category] = reg.coef_[0]
plt.figure(figsize=(12, 6))

# Adding a horizontal line at y=0
plt.axhline(0, color='black', linestyle='--')

sorted_categories = sorted(slopes, key=slopes.get)
sorted_slopes = [slopes[cat] for cat in sorted_categories]

color_mapping = {
    'High Alc-Low pH-Low Acid': 'red',
    'High Alc-Low pH-High Acid': 'red',
    'High Alc-High pH-Low Acid': 'red',
    'High Alc-High pH-High Acid': 'red',
    'Low Alc-Low pH-Low Acid': 'blue',
    'Low Alc-Low pH-High Acid': 'blue',
    'Low Alc-High pH-Low Acid': 'blue',
    'Low Alc-High pH-High Acid': 'blue'
}
colors = [color_mapping[cat] for cat in sorted_categories]

plt.bar(sorted_categories, sorted_slopes, color=colors, alpha=0.8)
plt.xticks(rotation=45, ha='right')
plt.xlabel('Wine category')
plt.ylabel('Slope of regression line (Quality vs. Sulfates)')
plt.title('Slope of regression line for each wine category')
plt.tight_layout()

plt.savefig('slopes_bar_chart_updated.png')
plt.show()

