{
 "cells": [
  {
   "cell_type": "code",
   "id": "initial_id",
   "metadata": {
    "collapsed": true,
    "ExecuteTime": {
     "end_time": "2024-11-16T18:29:35.693300Z",
     "start_time": "2024-11-16T18:29:35.648165Z"
    }
   },
   "source": [
    "import pandas as pd\n",
    "\n",
    "# Load dataset\n",
    "df = pd.read_csv('combined_wine_quality.csv')\n",
    "\n",
    "# Filter high-scoring red and white wines\n",
    "df_high_score = df[df['quality'] > 7]\n",
    "\n",
    "alcohol_quality_stats = df['quality'].describe()\n",
    "alcohol_quality_stats"
   ],
   "outputs": [
    {
     "data": {
      "text/plain": [
       "count    6497.000000\n",
       "mean        5.818378\n",
       "std         0.873255\n",
       "min         3.000000\n",
       "25%         5.000000\n",
       "50%         6.000000\n",
       "75%         6.000000\n",
       "max         9.000000\n",
       "Name: quality, dtype: float64"
      ]
     },
     "execution_count": 10,
     "metadata": {},
     "output_type": "execute_result"
    }
   ],
   "execution_count": 10
  },
  {
   "metadata": {
    "ExecuteTime": {
     "end_time": "2024-11-16T18:26:37.587026Z",
     "start_time": "2024-11-16T18:26:37.063055Z"
    }
   },
   "cell_type": "code",
   "source": [
    "from dash import Dash, dcc, html\n",
    "from dash.dependencies import Input, Output\n",
    "import plotly.express as px\n",
    "\n",
    "# Initialize Dash app\n",
    "app = Dash(__name__)\n",
    "\n",
    "# Layout\n",
    "app.layout = html.Div([\n",
    "    html.H1(\"High-Scoring Red vs White Wines\", style={'text-align': 'center', 'color': '#4CAF50'}),\n",
    "\n",
    "    html.Div([\n",
    "        html.Label(\"Select X-axis Feature:\", style={'font-weight': 'bold'}),\n",
    "        dcc.Dropdown(\n",
    "            id='x-axis-feature',\n",
    "            options=[{'label': col, 'value': col} for col in df_high_score.columns if df_high_score[col].dtype != 'object'],\n",
    "            value='alcohol',\n",
    "            style={'width': '50%', 'margin-bottom': '10px'}\n",
    "        ),\n",
    "\n",
    "        html.Label(\"Select Y-axis Feature:\", style={'font-weight': 'bold'}),\n",
    "        dcc.Dropdown(\n",
    "            id='y-axis-feature',\n",
    "            options=[{'label': col, 'value': col} for col in df_high_score.columns if df_high_score[col].dtype != 'object'],\n",
    "            value='pH',\n",
    "            style={'width': '50%'}\n",
    "        ),\n",
    "    ], style={'margin': '20px'}),\n",
    "\n",
    "    dcc.Graph(id='wine-graph', style={'margin-top': '20px'}),\n",
    "])\n",
    "\n",
    "# Callback to update the graph based on dropdown selection\n",
    "@app.callback(\n",
    "    Output('wine-graph', 'figure'),\n",
    "    [Input('x-axis-feature', 'value'),\n",
    "     Input('y-axis-feature', 'value')]\n",
    ")\n",
    "def update_graph(x_feature, y_feature):\n",
    "    fig = px.scatter(\n",
    "        df_high_score,\n",
    "        x=x_feature,\n",
    "        y=y_feature,\n",
    "        color='type',\n",
    "        symbol='type',\n",
    "        size='quality',\n",
    "        hover_data=['quality', 'volatile acidity', 'sulphates'],\n",
    "        title=f\"Comparison of High-Scoring Wines ({x_feature} vs {y_feature})\"\n",
    "    )\n",
    "    fig.update_layout(\n",
    "        title_font_size=20,\n",
    "        xaxis_title=x_feature,\n",
    "        yaxis_title=y_feature,\n",
    "        legend_title=\"Wine Type\",\n",
    "        template=\"plotly_white\"\n",
    "    )\n",
    "    return fig\n",
    "\n",
    "# Run app\n",
    "if __name__ == '__main__':\n",
    "    app.run_server(debug=True)\n"
   ],
   "id": "eddc320d7c344621",
   "outputs": [
    {
     "data": {
      "text/plain": [
       "<IPython.lib.display.IFrame at 0x2295e4f1ac0>"
      ],
      "text/html": [
       "\n",
       "        <iframe\n",
       "            width=\"100%\"\n",
       "            height=\"650\"\n",
       "            src=\"http://127.0.0.1:8050/\"\n",
       "            frameborder=\"0\"\n",
       "            allowfullscreen\n",
       "            \n",
       "        ></iframe>\n",
       "        "
      ]
     },
     "metadata": {},
     "output_type": "display_data"
    }
   ],
   "execution_count": 6
  },
  {
   "metadata": {},
   "cell_type": "code",
   "outputs": [],
   "execution_count": null,
   "source": "",
   "id": "73fdd441b96c5d42"
  }
 ],
 "metadata": {
  "kernelspec": {
   "display_name": "Python 3",
   "language": "python",
   "name": "python3"
  },
  "language_info": {
   "codemirror_mode": {
    "name": "ipython",
    "version": 2
   },
   "file_extension": ".py",
   "mimetype": "text/x-python",
   "name": "python",
   "nbconvert_exporter": "python",
   "pygments_lexer": "ipython2",
   "version": "2.7.6"
  }
 },
 "nbformat": 4,
 "nbformat_minor": 5
}
